{
 "cells": [
  {
   "cell_type": "markdown",
   "metadata": {},
   "source": [
    "## **Creando un chatbot con spacy**"
   ]
  },
  {
   "cell_type": "code",
   "execution_count": 54,
   "metadata": {},
   "outputs": [],
   "source": [
    "# importamso las librerias necesarias\n",
    "import spacy\n",
    "\n",
    "# se carga el modelo del lenguaje\n",
    "pln = spacy.load('es_core_news_sm')"
   ]
  },
  {
   "cell_type": "code",
   "execution_count": 55,
   "metadata": {},
   "outputs": [],
   "source": [
    "# Se define un diccionario de respuestas para el chatbot\n",
    "RESPONSES = {\n",
    "    \"greeting\": \"Hola, ¿cómo puedo ayudarte hoy?\",\n",
    "    \"goodbye\": \"Adiós, ¡espero haber sido de ayuda!\",\n",
    "    \"thanks\": \"¡De nada! Estoy aquí para ayudarte.\",\n",
    "    \"help\": \"Claro, dime en qué necesitas ayuda.\",\n",
    "    \"weather\": \"Lo siento, no tengo acceso al clima en este momento.\",\n",
    "    \"name\": \"Soy tu asistente virtual, ¡encantado de conocerte!\",\n",
    "    \"age\": \"No tengo edad, pero siempre estoy actualizado.\",\n",
    "    \"joke\": \"¿Por qué el libro de matemáticas estaba triste? Porque tenía demasiados problemas.\",\n",
    "    \"time\": \"Lo siento, no tengo acceso a la hora actual.\",\n",
    "    \"date\": \"Hoy es un gran día para aprender algo nuevo.\",\n",
    "    \"location\": \"Estoy en la nube, ¡siempre disponible!\",\n",
    "    \"unknown\": \"Lo siento, no entendí eso. ¿Puedes repetirlo?\",\n",
    "    \"affirmative\": \"¡Perfecto! Continuemos.\",\n",
    "    \"negative\": \"Entiendo, dime si necesitas otra cosa.\",\n",
    "    \"repeat\": \"Claro, puedo repetirlo. ¿Qué parte necesitas que repita?\",\n",
    "    'delivery_status': 'El paquete se encuentra en camino'\n",
    "}\n",
    "\n",
    "TENT_KEYWORDS = {\n",
    "    \"greeting\": [\"hola\", \"buenos días\", \"buenas tardes\", \"hey\", \"hello\"],\n",
    "    \"goodbye\": [\"adiós\", \"hasta luego\", \"chao\", \"bye\", \"nos vemos\"],\n",
    "    \"thanks\": [\"gracias\", \"muchas gracias\", \"te lo agradezco\"],\n",
    "    \"help\": [\"ayuda\", \"necesito ayuda\", \"puedes ayudarme\", \"cómo hago\"],\n",
    "    \"weather\": [\"clima\", \"tiempo\", \"va a llover\", \"temperatura\"],\n",
    "    \"name\": [\"cómo te llamas\", \"quién eres\", \"tu nombre\"],\n",
    "    \"age\": [\"cuántos años tienes\", \"edad\", \"eres viejo\"],\n",
    "    \"joke\": [\"cuéntame un chiste\", \"hazme reír\", \"dime algo gracioso\"],\n",
    "    \"time\": [\"qué hora es\", \"hora actual\", \"tienes la hora\"],\n",
    "    \"date\": [\"qué día es\", \"fecha de hoy\", \"día actual\"],\n",
    "    \"location\": [\"dónde estás\", \"tu ubicación\", \"estás cerca\"],\n",
    "    \"unknown\": [\"no entiendo\", \"qué dijiste\", \"repite eso\"],\n",
    "    \"affirmative\": [\"sí\", \"claro\", \"por supuesto\", \"vale\"],\n",
    "    \"negative\": [\"no\", \"nunca\", \"no quiero\", \"no gracias\"],\n",
    "    \"repeat\": [\"repite\", \"puedes repetir\", \"no entendí\"],\n",
    "    'delivery_status': ['estado de entrega', 'donde esta mi paquete', 'donde esta mi envio']\n",
    "}\n"
   ]
  },
  {
   "cell_type": "code",
   "execution_count": 56,
   "metadata": {},
   "outputs": [
    {
     "name": "stdout",
     "output_type": "stream",
     "text": [
      "Bot:  Hola, ¿cómo puedo ayudarte hoy?\n",
      "Bot:  lo siento, no estoy seguro de cómo responder a eso\n",
      "Bot:  lo siento, no estoy seguro de cómo responder a eso\n",
      "Bot:  Claro, dime en qué necesitas ayuda.\n",
      "Bot:  lo siento, no estoy seguro de cómo responder a eso\n",
      "Bot:  lo siento, no estoy seguro de cómo responder a eso\n",
      "Bot:  lo siento, no estoy seguro de cómo responder a eso\n",
      "Bot:  lo siento, no estoy seguro de cómo responder a eso\n",
      "Bot:  ¡De nada! Estoy aquí para ayudarte.\n",
      "Bot:  Claro, puedo repetirlo. ¿Qué parte necesitas que repita?\n",
      "Bot:  Hola, ¿cómo puedo ayudarte hoy?\n",
      "Bot:  Hola, ¿cómo puedo ayudarte hoy?\n",
      "Bot:  lo siento, no estoy seguro de cómo responder a eso\n",
      "Bot:  Claro, dime en qué necesitas ayuda.\n",
      "Bot:  lo siento, no estoy seguro de cómo responder a eso\n",
      "Bot:  Hola, ¿cómo puedo ayudarte hoy?\n",
      "Bot:  lo siento, no estoy seguro de cómo responder a eso\n",
      "Bot:  lo siento, no estoy seguro de cómo responder a eso\n",
      "Bot:  lo siento, no estoy seguro de cómo responder a eso\n",
      "Bot:  lo siento, no estoy seguro de cómo responder a eso\n",
      "Bot: Parece que no has escrito nada. Puedes intentar de nuevo.\n",
      "Bot: Parece que no has escrito nada. Puedes intentar de nuevo.\n",
      "Bot: Parece que no has escrito nada. Puedes intentar de nuevo.\n",
      "Bot: Adiós, espero haber sido de ayuda!\n"
     ]
    }
   ],
   "source": [
    "# se define fincion para obtener la intencion del usuario\n",
    "def get_intent(text):\n",
    "    doc = pln(text.lower())\n",
    "    for token in doc:\n",
    "        for intent, keywords in TENT_KEYWORDS.items():\n",
    "            if token.text in keywords:\n",
    "                return intent\n",
    "    return 'unknow'\n",
    "\n",
    "# se define funcion para procesar el texto del usuario\n",
    "def process_text(text):\n",
    "    intent = get_intent(text)\n",
    "    return RESPONSES.get(intent, 'lo siento, no estoy seguro de cómo responder a eso')\n",
    "\n",
    "# se define el input del usuario con funcion while\n",
    "while True:\n",
    "    user_input = input('Usuario: ')\n",
    "    if user_input.lower() in ['salir', 'bye', 'adios']:\n",
    "        print('Bot: Adiós, espero haber sido de ayuda!')\n",
    "        break\n",
    "    if not user_input.strip():\n",
    "        print('Bot: Parece que no has escrito nada. Puedes intentar de nuevo.')\n",
    "        continue\n",
    "    response = process_text(user_input)\n",
    "    print('Bot: ', response)\n"
   ]
  }
 ],
 "metadata": {
  "kernelspec": {
   "display_name": "Python 3",
   "language": "python",
   "name": "python3"
  },
  "language_info": {
   "codemirror_mode": {
    "name": "ipython",
    "version": 3
   },
   "file_extension": ".py",
   "mimetype": "text/x-python",
   "name": "python",
   "nbconvert_exporter": "python",
   "pygments_lexer": "ipython3",
   "version": "3.9.0"
  }
 },
 "nbformat": 4,
 "nbformat_minor": 2
}
