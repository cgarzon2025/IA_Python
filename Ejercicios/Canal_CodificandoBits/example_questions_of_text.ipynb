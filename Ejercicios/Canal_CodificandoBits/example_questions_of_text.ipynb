{
 "cells": [
  {
   "cell_type": "markdown",
   "metadata": {},
   "source": [
    "### Vamos a importar un fragmento de texto y le vamos a realizar algunas preguntas"
   ]
  },
  {
   "cell_type": "code",
   "execution_count": 1,
   "metadata": {},
   "outputs": [
    {
     "name": "stderr",
     "output_type": "stream",
     "text": [
      "c:\\Users\\insit\\AppData\\Local\\Programs\\Python\\Python39\\lib\\site-packages\\tqdm\\auto.py:21: TqdmWarning: IProgress not found. Please update jupyter and ipywidgets. See https://ipywidgets.readthedocs.io/en/stable/user_install.html\n",
      "  from .autonotebook import tqdm as notebook_tqdm\n",
      "Some weights of the model checkpoint at mrm8488/distill-bert-base-spanish-wwm-cased-finetuned-spa-squad2-es were not used when initializing BertForQuestionAnswering: ['bert.pooler.dense.bias', 'bert.pooler.dense.weight']\n",
      "- This IS expected if you are initializing BertForQuestionAnswering from the checkpoint of a model trained on another task or with another architecture (e.g. initializing a BertForSequenceClassification model from a BertForPreTraining model).\n",
      "- This IS NOT expected if you are initializing BertForQuestionAnswering from the checkpoint of a model that you expect to be exactly identical (initializing a BertForSequenceClassification model from a BertForSequenceClassification model).\n",
      "Device set to use cpu\n"
     ]
    }
   ],
   "source": [
    "# Importamos las librerias necesarias\n",
    "from transformers import AutoTokenizer, AutoModelForQuestionAnswering, pipeline\n",
    "\n",
    "# Cargamos el modelo y el tokenizador\n",
    "the_model = 'mrm8488/distill-bert-base-spanish-wwm-cased-finetuned-spa-squad2-es'\n",
    "tokenizer = AutoTokenizer.from_pretrained(the_model, do_lower_case=False)\n",
    "\n",
    "# Cargamos el modelo\n",
    "model = AutoModelForQuestionAnswering.from_pretrained(the_model)\n",
    "\n",
    "# Ejemplo de inferencia\n",
    "nlp = pipeline('question-answering', model=model, tokenizer=tokenizer)\n",
    "\n",
    "# Ejemplo de pregunta y respuesta\n",
    "question = \"¿Cuál es la capital de Colombia?\"\n",
    "context = \"La capital de Colombia es Bogotá y está situada en el centro del país.\""
   ]
  },
  {
   "cell_type": "code",
   "execution_count": 4,
   "metadata": {},
   "outputs": [],
   "source": [
    "# Importamos libreria wrap\n",
    "from textwrap import wrap\n",
    "\n",
    "# Funcion para obtener respuestas a partir de un fragmento de texto\n",
    "def questions_answers(model, contexto, nlp):\n",
    "    \n",
    "    #Imprimimos el contexto o texto de referencia\n",
    "    print('Contexto:')\n",
    "    print('-----------')\n",
    "    print('\\n'.join(wrap(contexto)))\n",
    "    \n",
    "    # Loops preguntas y respuestas\n",
    "    continuar = True\n",
    "    while continuar:\n",
    "        print('\\nPregunta:')\n",
    "        print('-----------')\n",
    "        pregunta = str(input('Ingrese su pregunta (o presione Enter para terminar): '))\n",
    "        \n",
    "        continuar = pregunta.strip() != ''\n",
    "        \n",
    "        if continuar:\n",
    "            # Obtenemos la respuesta\n",
    "            output = nlp({'question': pregunta, 'context': contexto})\n",
    "            \n",
    "            # Imprimimos la respuesta\n",
    "            print('\\nRespuesta:')\n",
    "            print('-----------')\n",
    "            print(output['answer'])"
   ]
  },
  {
   "cell_type": "code",
   "execution_count": 9,
   "metadata": {},
   "outputs": [
    {
     "name": "stdout",
     "output_type": "stream",
     "text": [
      "Contexto:\n",
      "-----------\n",
      "Proveer una solución integral en modalidad de servicio, para los\n",
      "componentes de tecnología, soporte informático, telefonía y\n",
      "telecomunicaciones para los recursos existentes, así como realizar la\n",
      "gerencia de los proyectos tecnológicos que requiera la administración\n",
      "para la correcta prestación del servicio. Con el fin de cumplir la\n",
      "necesidad de integrar los servicios tecnológicos de la Entidad, se\n",
      "considera necesario proveer una solución integral en modalidad de\n",
      "prestación de servicios, para los componentes de tecnología, soporte\n",
      "informático, telefonía y telecomunicaciones, para los recursos\n",
      "existentes y así mismo el servicio de solución integral de\n",
      "conectividad para la línea vida 103, de igual  manera realizar la\n",
      "gerencia de los proyectos tecnológicos que requiera la administración\n",
      "para la correcta prestación del servicio, que se desarrollan a través\n",
      "de las siguientes líneas de servicio.\n",
      "\n",
      "Pregunta:\n",
      "-----------\n"
     ]
    },
    {
     "name": "stderr",
     "output_type": "stream",
     "text": [
      "c:\\Users\\insit\\AppData\\Local\\Programs\\Python\\Python39\\lib\\site-packages\\transformers\\pipelines\\question_answering.py:390: FutureWarning: Passing a list of SQuAD examples to the pipeline is deprecated and will be removed in v5. Inputs should be passed using the `question` and `context` keyword arguments instead.\n",
      "  warnings.warn(\n"
     ]
    },
    {
     "name": "stdout",
     "output_type": "stream",
     "text": [
      "\n",
      "Respuesta:\n",
      "-----------\n",
      "Proveer una solución integral en modalidad de servicio\n",
      "\n",
      "Pregunta:\n",
      "-----------\n",
      "\n",
      "Respuesta:\n",
      "-----------\n",
      "Con el fin de cumplir la necesidad de integrar los servicios tecnológicos de la Entidad\n",
      "\n",
      "Pregunta:\n",
      "-----------\n",
      "\n",
      "Respuesta:\n",
      "-----------\n",
      "Con el fin de cumplir la necesidad de integrar los servicios tecnológicos de la Entidad\n",
      "\n",
      "Pregunta:\n",
      "-----------\n",
      "\n",
      "Respuesta:\n",
      "-----------\n",
      "tecnología, soporte informático, telefonía y telecomunicaciones para los recursos existentes\n",
      "\n",
      "Pregunta:\n",
      "-----------\n"
     ]
    }
   ],
   "source": [
    "# Ejemplo con contexto real:\n",
    "context2 = 'Proveer una solución integral en modalidad de servicio, para los componentes de tecnología, soporte informático, telefonía y telecomunicaciones para los recursos existentes, así como realizar la gerencia de los proyectos tecnológicos que requiera la administración para la correcta prestación del servicio. Con el fin de cumplir la necesidad de integrar los servicios tecnológicos de la Entidad, se considera necesario proveer una solución integral en modalidad de prestación de servicios, para los componentes de tecnología, soporte informático, telefonía y telecomunicaciones, para los recursos  existentes y así mismo el servicio de solución integral de conectividad para la línea vida 103, de igual  manera realizar la gerencia de los proyectos tecnológicos que requiera la administración para la correcta prestación del servicio, que se desarrollan a través de las siguientes líneas de servicio.'\n",
    "questions_answers(model, context2, nlp)"
   ]
  }
 ],
 "metadata": {
  "kernelspec": {
   "display_name": "Python 3",
   "language": "python",
   "name": "python3"
  },
  "language_info": {
   "codemirror_mode": {
    "name": "ipython",
    "version": 3
   },
   "file_extension": ".py",
   "mimetype": "text/x-python",
   "name": "python",
   "nbconvert_exporter": "python",
   "pygments_lexer": "ipython3",
   "version": "3.9.0"
  }
 },
 "nbformat": 4,
 "nbformat_minor": 2
}
