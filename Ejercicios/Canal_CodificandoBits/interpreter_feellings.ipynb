{
 "cells": [
  {
   "cell_type": "markdown",
   "metadata": {},
   "source": [
    "## **Análisis de sentimientos**"
   ]
  },
  {
   "cell_type": "code",
   "execution_count": 4,
   "metadata": {},
   "outputs": [],
   "source": [
    "# Importamos librerias necesarias de transformers para analizar sentimientos\n",
    "from transformers import BertModel, BertTokenizer, get_linear_schedule_with_warmup\n",
    "from torch.optim import AdamW\n",
    "import torch\n",
    "import numpy as np\n",
    "from sklearn.model_selection import train_test_split\n",
    "from torch import nn, optim\n",
    "from torch.utils.data import Dataset, DataLoader\n",
    "import pandas as pd\n",
    "from textwrap import wrap\n",
    "\n",
    "# BertModel se utiliza para crear un modelo de lenguaje que puede ser utilizado para generar texto.\n",
    "# BertTokenizer se utiliza para tokenizar el texto y convertirlo en tokens.\n",
    "# AdamW es un optimizador que se utiliza para actualizar los pesos de la red neuronal.\n",
    "# get_linear_schedule_with_warmup se utiliza para ajustar el learning rate de la red neuronal.\n"
   ]
  },
  {
   "cell_type": "code",
   "execution_count": 14,
   "metadata": {},
   "outputs": [
    {
     "name": "stdout",
     "output_type": "stream",
     "text": [
      "cpu\n"
     ]
    }
   ],
   "source": [
    "# Inicializar unos parametros para el modelo\n",
    "RANDOM_SEED = 42\n",
    "MAX_LEN = 200\n",
    "TRAIN_BATCH_SIZE = 16\n",
    "DATASET_PATH = \"IMDB_Dataset.csv\"\n",
    "NCLASSES = 2\n",
    "\n",
    "# Inicializar numpy random seed\n",
    "np.random.seed(RANDOM_SEED)\n",
    "\n",
    "# Inicializar torch random seed\n",
    "torch.manual_seed(RANDOM_SEED)\n",
    "\n",
    "# Incializar el dispositivo\n",
    "device = torch.device(\"cuda:0\" if torch.cuda.is_available() else \"cpu\")\n",
    "\n",
    "print(device)"
   ]
  },
  {
   "cell_type": "code",
   "execution_count": 19,
   "metadata": {},
   "outputs": [
    {
     "name": "stdout",
     "output_type": "stream",
     "text": [
      "                                              review sentiment\n",
      "0  One of the other reviewers has mentioned that ...  positive\n",
      "(10000, 2)\n",
      "Interesting and short television movie describes some of the\n",
      "machinations surrounding Jay Leno's replacing Carson as host of the\n",
      "Tonight Show. Film is currently very topical given the public drama\n",
      "surrounding Conan O'Brien and Jay Leno.<br /><br />The film does a\n",
      "good job of sparking viewers' interest in the events and showing some\n",
      "of the concerns of the stakeholders, particularly of the NBC\n",
      "executives. The portrayal of Ovitz was particularly compelling and\n",
      "interesting, I thought.<br /><br />Still, many of the characters were\n",
      "only very briefly limned or touched upon, and some of the acting\n",
      "seemed perfunctory. Nevertheless, an interesting story.\n"
     ]
    }
   ],
   "source": [
    "# Cargar el dataset\n",
    "df = pd.read_csv(DATASET_PATH)\n",
    "df = df[0:10000]\n",
    "\n",
    "# Imprimir el dataset\n",
    "print(df.head(0))\n",
    "\n",
    "# Imprimir el tamaño del dataset\n",
    "print(df.shape)\n",
    "\n",
    "# Imprimir un ejemplo de review\n",
    "print('\\n'.join(wrap(df.review[200])))\n"
   ]
  }
 ],
 "metadata": {
  "kernelspec": {
   "display_name": "Python 3",
   "language": "python",
   "name": "python3"
  },
  "language_info": {
   "codemirror_mode": {
    "name": "ipython",
    "version": 3
   },
   "file_extension": ".py",
   "mimetype": "text/x-python",
   "name": "python",
   "nbconvert_exporter": "python",
   "pygments_lexer": "ipython3",
   "version": "3.9.0"
  }
 },
 "nbformat": 4,
 "nbformat_minor": 2
}
