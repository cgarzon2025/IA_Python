{
 "cells": [
  {
   "cell_type": "markdown",
   "metadata": {},
   "source": [
    "## **Analisis de textos**"
   ]
  },
  {
   "cell_type": "code",
   "execution_count": 1,
   "metadata": {},
   "outputs": [],
   "source": [
    "# Valores de configuracion\n",
    "NumArchivos = 10\n",
    "TopeNumArchivos = NumArchivos +1\n",
    "InicioNumArchivos = 1\n",
    "\n",
    "ggRutaDirectorioArchivos = \"\"\n",
    "PrefijoArchivoExcel = \"AED_tokens_minusculas_\"\n",
    "ggExtensionArchivoExcel = \".xlsx\"\n",
    "ggExtensionArchivoWord = \".docx\""
   ]
  }
 ],
 "metadata": {
  "kernelspec": {
   "display_name": "Python 3",
   "language": "python",
   "name": "python3"
  },
  "language_info": {
   "codemirror_mode": {
    "name": "ipython",
    "version": 3
   },
   "file_extension": ".py",
   "mimetype": "text/x-python",
   "name": "python",
   "nbconvert_exporter": "python",
   "pygments_lexer": "ipython3",
   "version": "3.9.0"
  }
 },
 "nbformat": 4,
 "nbformat_minor": 2
}
