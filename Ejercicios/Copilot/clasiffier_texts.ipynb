{
 "cells": [
  {
   "cell_type": "markdown",
   "metadata": {},
   "source": [
    "## **Clasificador de textos de acuerdo a Copilot**"
   ]
  },
  {
   "cell_type": "code",
   "execution_count": 1,
   "metadata": {},
   "outputs": [],
   "source": [
    "# se importa las librerias necesarias\n",
    "import fitz\n",
    "import os\n",
    "# fitz se usa para leer archivos pdf\n"
   ]
  },
  {
   "cell_type": "code",
   "execution_count": 17,
   "metadata": {},
   "outputs": [],
   "source": [
    "# Palabras clave por categoría\n",
    "KEYWORDS = {\n",
    "    'contrato': ['contrato', 'acuerdo', 'firma'],\n",
    "    'factura': ['factura', 'recibo', 'pago'],\n",
    "    'reporte': ['reporte', 'informe', 'análisis'],\n",
    "    'anexo_tecnico': ['anexo técnico', 'datacenter', 'servicios administrados', 'infraestructura','firewall', 'VPN', 'WLAN', 'VMWare', 'backup', 'servidores virtuales','plataforma tecnológica', 'nivel de servicio', 'DBA', 'SQL Server', 'Fortinet','monitoreo', 'disponibilidad', 'respaldo', 'migración', 'segmento de red'],\n",
    "    'capacidad_financiera': ['capacidad financiera', 'indicadores financieros', 'solvencia económica', 'liquidez', 'endeudamiento', 'rentabilidad', 'certificación bancaria','estados financieros', 'balance general', 'flujo de caja', 'patrimonio neto','certificado de ingresos', 'experiencia financiera', 'respaldo económico']\n",
    "}\n",
    "\n",
    "# Funcion para extraer texto de un pdf\n",
    "\n",
    "# Clasificación por palabras clave\n",
    "def classify_text(text):\n",
    "    for category, keywords in KEYWORDS.items():\n",
    "        for keyword in keywords:\n",
    "            if keyword.lower() in text.lower():\n",
    "                return category\n",
    "    return 'desconocido'\n",
    "\n",
    "# Extracción de texto desde PDF\n",
    "def extract_text_from_pdf(pdf_path):\n",
    "    text = \"\"\n",
    "    with fitz.open(pdf_path) as doc:\n",
    "        for page in doc:\n",
    "            text += page.get_text()\n",
    "    return text\n",
    "\n",
    "# Procesamiento de documentos\n",
    "def process_documents(directory):\n",
    "    classified_docs = {'contrato': [], 'factura': [], 'reporte': [], 'desconocido': []}\n",
    "    \n",
    "    for filename in os.listdir(directory):\n",
    "        if filename.endswith('.pdf'):\n",
    "            pdf_path = os.path.join(directory, filename)\n",
    "            text = extract_text_from_pdf(pdf_path)\n",
    "            category = classify_text(text)\n",
    "            classified_docs[category].append(filename)\n",
    "    \n",
    "    return classified_docs"
   ]
  },
  {
   "cell_type": "code",
   "execution_count": 20,
   "metadata": {},
   "outputs": [
    {
     "name": "stdout",
     "output_type": "stream",
     "text": [
      "Categoría: contrato\n",
      " - anexo_tecnico1.pdf\n",
      " - anexo_tecnico2.pdf\n",
      "Categoría: factura\n",
      "Categoría: reporte\n",
      "Categoría: desconocido\n"
     ]
    }
   ],
   "source": [
    "# Ruta a tus documentos PDF\n",
    "directory = r'C:\\Users\\insit\\OneDrive - Insitel\\Desktop\\IA_Python\\Ejercicios\\Copilot'\n",
    "\n",
    "# Ejecutar clasificación\n",
    "classified_docs = process_documents(directory)\n",
    "\n",
    "# Mostrar resultados\n",
    "for category, files in classified_docs.items():\n",
    "    print(f\"Categoría: {category}\")\n",
    "    for file in files:\n",
    "        print(f\" - {file}\")"
   ]
  }
 ],
 "metadata": {
  "kernelspec": {
   "display_name": "Python 3",
   "language": "python",
   "name": "python3"
  },
  "language_info": {
   "codemirror_mode": {
    "name": "ipython",
    "version": 3
   },
   "file_extension": ".py",
   "mimetype": "text/x-python",
   "name": "python",
   "nbconvert_exporter": "python",
   "pygments_lexer": "ipython3",
   "version": "3.9.0"
  }
 },
 "nbformat": 4,
 "nbformat_minor": 2
}
