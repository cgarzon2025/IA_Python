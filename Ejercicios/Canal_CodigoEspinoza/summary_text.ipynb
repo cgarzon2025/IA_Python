{
 "cells": [
  {
   "cell_type": "markdown",
   "metadata": {},
   "source": [
    "## **Resumen de textos con Text Rank**"
   ]
  },
  {
   "cell_type": "code",
   "execution_count": 181,
   "metadata": {},
   "outputs": [],
   "source": [
    "# Se importa las librerias necesarias\n",
    "import pandas as pd\n",
    "import numpy as np\n",
    "import wrap, textwrap\n",
    "import nltk\n",
    "from nltk.corpus import stopwords\n",
    "from nltk.tokenize import word_tokenize\n",
    "from nltk.stem import WordNetLemmatizer, PorterStemmer\n",
    "from sklearn.feature_extraction.text import TfidfVectorizer\n",
    "from sklearn.metrics.pairwise import cosine_similarity\n",
    "\n",
    "# nltk sirve para descargar los stopwords y lematizar y tokenizar\n",
    "# sklearn sirve para vectorizar los textos y calcular la similitud coseno"
   ]
  },
  {
   "cell_type": "code",
   "execution_count": 182,
   "metadata": {},
   "outputs": [
    {
     "name": "stderr",
     "output_type": "stream",
     "text": [
      "[nltk_data] Downloading package punkt_tab to\n",
      "[nltk_data]     C:\\Users\\insit\\AppData\\Roaming\\nltk_data...\n",
      "[nltk_data]   Package punkt_tab is already up-to-date!\n",
      "[nltk_data] Downloading package stopwords to\n",
      "[nltk_data]     C:\\Users\\insit\\AppData\\Roaming\\nltk_data...\n",
      "[nltk_data]   Package stopwords is already up-to-date!\n"
     ]
    },
    {
     "data": {
      "text/plain": [
       "True"
      ]
     },
     "execution_count": 182,
     "metadata": {},
     "output_type": "execute_result"
    }
   ],
   "source": [
    "# Descargar stopwords y lematizar y tokenizar\n",
    "nltk.download('punkt_tab')\n",
    "nltk.download('stopwords')\n"
   ]
  },
  {
   "cell_type": "code",
   "execution_count": 183,
   "metadata": {},
   "outputs": [
    {
     "data": {
      "text/html": [
       "<div>\n",
       "<style scoped>\n",
       "    .dataframe tbody tr th:only-of-type {\n",
       "        vertical-align: middle;\n",
       "    }\n",
       "\n",
       "    .dataframe tbody tr th {\n",
       "        vertical-align: top;\n",
       "    }\n",
       "\n",
       "    .dataframe thead th {\n",
       "        text-align: right;\n",
       "    }\n",
       "</style>\n",
       "<table border=\"1\" class=\"dataframe\">\n",
       "  <thead>\n",
       "    <tr style=\"text-align: right;\">\n",
       "      <th></th>\n",
       "      <th>url</th>\n",
       "      <th>news</th>\n",
       "      <th>Type</th>\n",
       "    </tr>\n",
       "  </thead>\n",
       "  <tbody>\n",
       "    <tr>\n",
       "      <th>0</th>\n",
       "      <td>https://www.larepublica.co/redirect/post/3201905</td>\n",
       "      <td>Durante el foro La banca articulador empresari...</td>\n",
       "      <td>Otra</td>\n",
       "    </tr>\n",
       "    <tr>\n",
       "      <th>1</th>\n",
       "      <td>https://www.larepublica.co/redirect/post/3210288</td>\n",
       "      <td>El regulador de valores de China dijo el domin...</td>\n",
       "      <td>Regulaciones</td>\n",
       "    </tr>\n",
       "    <tr>\n",
       "      <th>2</th>\n",
       "      <td>https://www.larepublica.co/redirect/post/3240676</td>\n",
       "      <td>En una industria históricamente masculina como...</td>\n",
       "      <td>Alianzas</td>\n",
       "    </tr>\n",
       "    <tr>\n",
       "      <th>3</th>\n",
       "      <td>https://www.larepublica.co/redirect/post/3342889</td>\n",
       "      <td>Con el dato de marzo el IPC interanual encaden...</td>\n",
       "      <td>Macroeconomia</td>\n",
       "    </tr>\n",
       "    <tr>\n",
       "      <th>4</th>\n",
       "      <td>https://www.larepublica.co/redirect/post/3427208</td>\n",
       "      <td>Ayer en Cartagena se dio inicio a la versión n...</td>\n",
       "      <td>Otra</td>\n",
       "    </tr>\n",
       "  </tbody>\n",
       "</table>\n",
       "</div>"
      ],
      "text/plain": [
       "                                                url  \\\n",
       "0  https://www.larepublica.co/redirect/post/3201905   \n",
       "1  https://www.larepublica.co/redirect/post/3210288   \n",
       "2  https://www.larepublica.co/redirect/post/3240676   \n",
       "3  https://www.larepublica.co/redirect/post/3342889   \n",
       "4  https://www.larepublica.co/redirect/post/3427208   \n",
       "\n",
       "                                                news           Type  \n",
       "0  Durante el foro La banca articulador empresari...           Otra  \n",
       "1  El regulador de valores de China dijo el domin...   Regulaciones  \n",
       "2  En una industria históricamente masculina como...       Alianzas  \n",
       "3  Con el dato de marzo el IPC interanual encaden...  Macroeconomia  \n",
       "4  Ayer en Cartagena se dio inicio a la versión n...           Otra  "
      ]
     },
     "execution_count": 183,
     "metadata": {},
     "output_type": "execute_result"
    }
   ],
   "source": [
    "# Se carga el dataset\n",
    "df = pd.read_csv('news.csv')\n",
    "\n",
    "# Se muestra el dataset\n",
    "df.head()"
   ]
  },
  {
   "cell_type": "code",
   "execution_count": 184,
   "metadata": {},
   "outputs": [
    {
     "name": "stdout",
     "output_type": "stream",
     "text": [
      "La inflación de Corea del Sur volvió a superar las previsiones acelerándose más allá del 5  por primera vez en más de 13 años lo que llevó\n",
      "al banco central a señalar nuevas subidas de tipos de interés y al gobierno a intensificar las medidas de alivio de precios.Los precios al\n",
      "consumidor avanzaron un 54 en mayo con respecto al año anterior más rápido que el pronóstico de los economistas de un 51 y alcanzando el\n",
      "nivel más alto desde agosto de 2008 informó el viernes la oficina de estadísticas. La lectura de abril de 48 ya fue la más fuerte desde\n",
      "octubre de 2008.La lectura es el ejemplo más reciente de un crecimiento de los precios que supera las expectativas mientras los responsables\n",
      "políticos mundiales luchan por controlar la inflación que alguna vez consideraron un fenómeno de corta duración.El Banco de Corea dijo que\n",
      "la inflación en el rango del 5 probablemente continuaría en junio y julio en un comunicado publicado después de los datos. Es más importante\n",
      "que cualquier otra cosa gestionar de manera estable las expectativas de inflación para garantizar la estabilidad de los precios dijo.El\n",
      "gobernador del BOK Rhee Changyong ya advirtió la semana pasada que esperaba que la inflación superara el 5 y se mantuviera allí durante\n",
      "algún tiempo. Dijo que el enfoque de la política debe permanecer en la inflación por ahora en lugar del crecimiento económico después de que\n",
      "el banco central elevó las tasas por quinta vez desde el verano pasado.Aún así es poco probable que el banco central cambie de aumentos de\n",
      "un cuarto de punto porcentual a aumentos de medio punto porcentual en el corto plazo dijo Roh Hyunwoo estratega de Hanwha Asset Management.\n",
      "Calificó el resultado como en gran medida dentro del rango esperado por el banco.El BOK ha estado dando pequeños pasos comenzando su ciclo\n",
      "de tasas antes que otros bancos centrales dijo. Es probable que ese siga siendo el enfoque de referencia para el BOK por el momento.La\n",
      "posibilidad de un aumento enorme de las tasas en Corea depende más de lo que haga la Reserva Federal y sería más probable si EE. UU. opta\n",
      "por un aumento de 75 puntos básicos en algún momento de este año agregó Roh.La principal preocupación del Banco de Corea es la espiral de\n",
      "precios e ingresos dice un exmiembroEl BOK ha estado a la vanguardia de los bancos centrales intensificando la lucha contra las presiones\n",
      "inflacionarias que han afectado las perspectivas de la economía mundial. Estos se han visto exacerbados por la guerra de Rusia contra\n",
      "Ucrania y los gruñidos de la cadena de suministro por los bloqueos en China.Ante la preocupación por el fortalecimiento de la inflación\n",
      "entre los principales responsables políticos de Corea el Ministerio de Finanzas describió la situación como grave.El ministerio dijo que el\n",
      "gobierno tomará más medidas para abordar el impacto del aumento de los precios con medidas para estabilizar el suministro de verduras y\n",
      "posibles recortes arancelarios para reducir algunos precios al consumidor.El informe de inflación de hoy también mostróComparado con el mes\n",
      "anterior los precios al consumidor avanzaron 07La inflación subyacente se aceleró al 41  respecto al año anterior el ritmo más rápido desde\n",
      "abril de 2009.Los costos de transporte lideraron las ganancias aumentando un 145 respecto al año anterior.Los costos de los servicios\n",
      "públicos aumentaron un 5. Los precios de alimentos y bebidas aumentaron un 6. El precio de los enseres y servicios del hogar subió un 54Los\n",
      "precios en hoteles y restaurantes subieron un 73 en medio de las restricciones más relajadas de Covid en la actividad pública.\n"
     ]
    }
   ],
   "source": [
    "# Se escoge una noticia aleatoria\n",
    "news_sample_test = df['news'].sample()\n",
    "\n",
    "# Se muestra la noticia\n",
    "print(textwrap.fill(news_sample_test.iloc[0], width=140))"
   ]
  },
  {
   "cell_type": "code",
   "execution_count": 185,
   "metadata": {},
   "outputs": [
    {
     "name": "stdout",
     "output_type": "stream",
     "text": [
      "La inflación de Corea del Sur volvió a superar las previsiones acelerándose más allá del 5  por primera vez en más de 13 años lo que llevó\n",
      "al banco central a señalar nuevas subidas de tipos de interés y al gobierno a intensificar las medidas de alivio de precios.Los precios al\n",
      "consumidor avanzaron un 54 en mayo con respecto al año anterior más rápido que el pronóstico de los economistas de un 51 y alcanzando el\n",
      "nivel más alto desde agosto de 2008 informó el viernes la oficina de estadísticas. La lectura de abril de 48 ya fue la más fuerte desde\n",
      "octubre de 2008.La lectura es el ejemplo más reciente de un crecimiento de los precios que supera las expectativas mientras los responsables\n",
      "políticos mundiales luchan por controlar la inflación que alguna vez consideraron un fenómeno de corta duración.El Banco de Corea dijo que\n",
      "la inflación en el rango del 5 probablemente continuaría en junio y julio en un comunicado publicado después de los datos. Es más importante\n",
      "que cualquier otra cosa gestionar de manera estable las expectativas de inflación para garantizar la estabilidad de los precios dijo.El\n",
      "gobernador del BOK Rhee Changyong ya advirtió la semana pasada que esperaba que la inflación superara el 5 y se mantuviera allí durante\n",
      "algún tiempo. Dijo que el enfoque de la política debe permanecer en la inflación por ahora en lugar del crecimiento económico después de que\n",
      "el banco central elevó las tasas por quinta vez desde el verano pasado.Aún así es poco probable que el banco central cambie de aumentos de\n",
      "un cuarto de punto porcentual a aumentos de medio punto porcentual en el corto plazo dijo Roh Hyunwoo estratega de Hanwha Asset Management.\n",
      "Calificó el resultado como en gran medida dentro del rango esperado por el banco.El BOK ha estado dando pequeños pasos comenzando su ciclo\n",
      "de tasas antes que otros bancos centrales dijo. Es probable que ese siga siendo el enfoque de referencia para el BOK por el momento.La\n",
      "posibilidad de un aumento enorme de las tasas en Corea depende más de lo que haga la Reserva Federal y sería más probable si EE. UU. opta\n",
      "por un aumento de 75 puntos básicos en algún momento de este año agregó Roh.La principal preocupación del Banco de Corea es la espiral de\n",
      "precios e ingresos dice un exmiembroEl BOK ha estado a la vanguardia de los bancos centrales intensificando la lucha contra las presiones\n",
      "inflacionarias que han afectado las perspectivas de la economía mundial. Estos se han visto exacerbados por la guerra de Rusia contra\n",
      "Ucrania y los gruñidos de la cadena de suministro por los bloqueos en China.Ante la preocupación por el fortalecimiento de la inflación\n",
      "entre los principales responsables políticos de Corea el Ministerio de Finanzas describió la situación como grave.El ministerio dijo que el\n",
      "gobierno tomará más medidas para abordar el impacto del aumento de los precios con medidas para estabilizar el suministro de verduras y\n",
      "posibles recortes arancelarios para reducir algunos precios al consumidor.El informe de inflación de hoy también mostróComparado con el mes\n",
      "anterior los precios al consumidor avanzaron 07La inflación subyacente se aceleró al 41  respecto al año anterior el ritmo más rápido desde\n",
      "abril de 2009.Los costos de transporte lideraron las ganancias aumentando un 145 respecto al año anterior.Los costos de los servicios\n",
      "públicos aumentaron un 5. Los precios de alimentos y bebidas aumentaron un 6. El precio de los enseres y servicios del hogar subió un 54Los\n",
      "precios en hoteles y restaurantes subieron un 73 en medio de las restricciones más relajadas de Covid en la actividad pública.\n"
     ]
    }
   ],
   "source": [
    "# Guardo el texto en una variable\n",
    "news_sample = textwrap.fill(news_sample_test.iloc[0], width=140)\n",
    "print(news_sample)"
   ]
  },
  {
   "cell_type": "code",
   "execution_count": 186,
   "metadata": {},
   "outputs": [
    {
     "name": "stdout",
     "output_type": "stream",
     "text": [
      "['La inflación de Corea del Sur volvió a superar las previsiones acelerándose más allá del 5  por primera vez en más de 13 años lo que llevó\\nal banco central a señalar nuevas subidas de tipos de interés y al gobierno a intensificar las medidas de alivio de precios', 'Los precios al\\nconsumidor avanzaron un 54 en mayo con respecto al año anterior más rápido que el pronóstico de los economistas de un 51 y alcanzando el\\nnivel más alto desde agosto de 2008 informó el viernes la oficina de estadísticas', ' La lectura de abril de 48 ya fue la más fuerte desde\\noctubre de 2008', 'La lectura es el ejemplo más reciente de un crecimiento de los precios que supera las expectativas mientras los responsables\\npolíticos mundiales luchan por controlar la inflación que alguna vez consideraron un fenómeno de corta duración', 'El Banco de Corea dijo que\\nla inflación en el rango del 5 probablemente continuaría en junio y julio en un comunicado publicado después de los datos', ' Es más importante\\nque cualquier otra cosa gestionar de manera estable las expectativas de inflación para garantizar la estabilidad de los precios dijo', 'El\\ngobernador del BOK Rhee Changyong ya advirtió la semana pasada que esperaba que la inflación superara el 5 y se mantuviera allí durante\\nalgún tiempo', ' Dijo que el enfoque de la política debe permanecer en la inflación por ahora en lugar del crecimiento económico después de que\\nel banco central elevó las tasas por quinta vez desde el verano pasado', 'Aún así es poco probable que el banco central cambie de aumentos de\\nun cuarto de punto porcentual a aumentos de medio punto porcentual en el corto plazo dijo Roh Hyunwoo estratega de Hanwha Asset Management', '\\nCalificó el resultado como en gran medida dentro del rango esperado por el banco', 'El BOK ha estado dando pequeños pasos comenzando su ciclo\\nde tasas antes que otros bancos centrales dijo', ' Es probable que ese siga siendo el enfoque de referencia para el BOK por el momento', 'La\\nposibilidad de un aumento enorme de las tasas en Corea depende más de lo que haga la Reserva Federal y sería más probable si EE', ' UU', ' opta\\npor un aumento de 75 puntos básicos en algún momento de este año agregó Roh', 'La principal preocupación del Banco de Corea es la espiral de\\nprecios e ingresos dice un exmiembroEl BOK ha estado a la vanguardia de los bancos centrales intensificando la lucha contra las presiones\\ninflacionarias que han afectado las perspectivas de la economía mundial', ' Estos se han visto exacerbados por la guerra de Rusia contra\\nUcrania y los gruñidos de la cadena de suministro por los bloqueos en China', 'Ante la preocupación por el fortalecimiento de la inflación\\nentre los principales responsables políticos de Corea el Ministerio de Finanzas describió la situación como grave', 'El ministerio dijo que el\\ngobierno tomará más medidas para abordar el impacto del aumento de los precios con medidas para estabilizar el suministro de verduras y\\nposibles recortes arancelarios para reducir algunos precios al consumidor', 'El informe de inflación de hoy también mostróComparado con el mes\\nanterior los precios al consumidor avanzaron 07La inflación subyacente se aceleró al 41  respecto al año anterior el ritmo más rápido desde\\nabril de 2009', 'Los costos de transporte lideraron las ganancias aumentando un 145 respecto al año anterior', 'Los costos de los servicios\\npúblicos aumentaron un 5', ' Los precios de alimentos y bebidas aumentaron un 6', ' El precio de los enseres y servicios del hogar subió un 54Los\\nprecios en hoteles y restaurantes subieron un 73 en medio de las restricciones más relajadas de Covid en la actividad pública', '']\n"
     ]
    },
    {
     "data": {
      "text/plain": [
       "'La inflación de Corea del Sur volvió a superar las previsiones acelerándose más allá del 5  por primera vez en más de 13 años lo que llevó\\nal banco central a señalar nuevas subidas de tipos de interés y al gobierno a intensificar las medidas de alivio de precios'"
      ]
     },
     "execution_count": 186,
     "metadata": {},
     "output_type": "execute_result"
    }
   ],
   "source": [
    "# Se separa el texto en oraciones\n",
    "lineas = news_sample.split('.')\n",
    "print(lineas)\n",
    "lineas[0]"
   ]
  },
  {
   "cell_type": "code",
   "execution_count": 187,
   "metadata": {},
   "outputs": [
    {
     "name": "stdout",
     "output_type": "stream",
     "text": [
      "['La inflación de Corea del Sur volvió a superar las previsiones acelerándose más allá del 5  por primera vez en más de 13 años lo que llevó\\nal banco central a señalar nuevas subidas de tipos de interés y al gobierno a intensificar las medidas de alivio de precios', 'Los precios al\\nconsumidor avanzaron un 54 en mayo con respecto al año anterior más rápido que el pronóstico de los economistas de un 51 y alcanzando el\\nnivel más alto desde agosto de 2008 informó el viernes la oficina de estadísticas', ' La lectura de abril de 48 ya fue la más fuerte desde\\noctubre de 2008', 'La lectura es el ejemplo más reciente de un crecimiento de los precios que supera las expectativas mientras los responsables\\npolíticos mundiales luchan por controlar la inflación que alguna vez consideraron un fenómeno de corta duración', 'El Banco de Corea dijo que\\nla inflación en el rango del 5 probablemente continuaría en junio y julio en un comunicado publicado después de los datos', ' Es más importante\\nque cualquier otra cosa gestionar de manera estable las expectativas de inflación para garantizar la estabilidad de los precios dijo', 'El\\ngobernador del BOK Rhee Changyong ya advirtió la semana pasada que esperaba que la inflación superara el 5 y se mantuviera allí durante\\nalgún tiempo', ' Dijo que el enfoque de la política debe permanecer en la inflación por ahora en lugar del crecimiento económico después de que\\nel banco central elevó las tasas por quinta vez desde el verano pasado', 'Aún así es poco probable que el banco central cambie de aumentos de\\nun cuarto de punto porcentual a aumentos de medio punto porcentual en el corto plazo dijo Roh Hyunwoo estratega de Hanwha Asset Management', '\\nCalificó el resultado como en gran medida dentro del rango esperado por el banco', 'El BOK ha estado dando pequeños pasos comenzando su ciclo\\nde tasas antes que otros bancos centrales dijo', ' Es probable que ese siga siendo el enfoque de referencia para el BOK por el momento', 'La\\nposibilidad de un aumento enorme de las tasas en Corea depende más de lo que haga la Reserva Federal y sería más probable si EE', ' UU', ' opta\\npor un aumento de 75 puntos básicos en algún momento de este año agregó Roh', 'La principal preocupación del Banco de Corea es la espiral de\\nprecios e ingresos dice un exmiembroEl BOK ha estado a la vanguardia de los bancos centrales intensificando la lucha contra las presiones\\ninflacionarias que han afectado las perspectivas de la economía mundial', ' Estos se han visto exacerbados por la guerra de Rusia contra\\nUcrania y los gruñidos de la cadena de suministro por los bloqueos en China', 'Ante la preocupación por el fortalecimiento de la inflación\\nentre los principales responsables políticos de Corea el Ministerio de Finanzas describió la situación como grave', 'El ministerio dijo que el\\ngobierno tomará más medidas para abordar el impacto del aumento de los precios con medidas para estabilizar el suministro de verduras y\\nposibles recortes arancelarios para reducir algunos precios al consumidor', 'El informe de inflación de hoy también mostróComparado con el mes\\nanterior los precios al consumidor avanzaron 07La inflación subyacente se aceleró al 41  respecto al año anterior el ritmo más rápido desde\\nabril de 2009', 'Los costos de transporte lideraron las ganancias aumentando un 145 respecto al año anterior', 'Los costos de los servicios\\npúblicos aumentaron un 5', ' Los precios de alimentos y bebidas aumentaron un 6', ' El precio de los enseres y servicios del hogar subió un 54Los\\nprecios en hoteles y restaurantes subieron un 73 en medio de las restricciones más relajadas de Covid en la actividad pública']\n"
     ]
    },
    {
     "data": {
      "text/plain": [
       "24"
      ]
     },
     "execution_count": 187,
     "metadata": {},
     "output_type": "execute_result"
    }
   ],
   "source": [
    "# Limpiar el texto y eliminar elementos vacios\n",
    "lineas = [item for item in lineas if item.strip()]\n",
    "print(lineas)\n",
    "len(lineas)"
   ]
  },
  {
   "cell_type": "code",
   "execution_count": 188,
   "metadata": {},
   "outputs": [],
   "source": [
    "# Se vectoriza el texto\n",
    "featurizer = TfidfVectorizer(\n",
    "    stop_words=stopwords.words('spanish'),\n",
    "    norm='l1',\n",
    ")"
   ]
  },
  {
   "cell_type": "code",
   "execution_count": 189,
   "metadata": {},
   "outputs": [
    {
     "data": {
      "text/plain": [
       "<24x234 sparse matrix of type '<class 'numpy.float64'>'\n",
       "\twith 311 stored elements in Compressed Sparse Row format>"
      ]
     },
     "execution_count": 189,
     "metadata": {},
     "output_type": "execute_result"
    }
   ],
   "source": [
    "# Se crea la matriz X\n",
    "X = featurizer.fit_transform(lineas)\n",
    "X"
   ]
  },
  {
   "cell_type": "code",
   "execution_count": 190,
   "metadata": {},
   "outputs": [
    {
     "data": {
      "text/plain": [
       "(24, 24)"
      ]
     },
     "execution_count": 190,
     "metadata": {},
     "output_type": "execute_result"
    }
   ],
   "source": [
    "# Se calcula la matriz de similitud\n",
    "sim_matrix = cosine_similarity(X)\n",
    "sim_matrix.shape\n"
   ]
  },
  {
   "cell_type": "code",
   "execution_count": 191,
   "metadata": {},
   "outputs": [
    {
     "data": {
      "text/plain": [
       "array([[1.        , 0.01500799, 0.        , 0.06625029, 0.08251483,\n",
       "        0.04308101, 0.01998889, 0.11202355, 0.04442911, 0.03350764,\n",
       "        0.        , 0.        , 0.03177163, 0.        , 0.        ,\n",
       "        0.06027648, 0.        , 0.05508519, 0.15261495, 0.04808296,\n",
       "        0.        , 0.        , 0.03641943, 0.01604483],\n",
       "       [0.01500799, 1.        , 0.07953019, 0.01673598, 0.        ,\n",
       "        0.0221367 , 0.        , 0.        , 0.        , 0.        ,\n",
       "        0.        , 0.        , 0.        , 0.        , 0.04401536,\n",
       "        0.01631579, 0.        , 0.        , 0.06966541, 0.27343597,\n",
       "        0.15641742, 0.        , 0.03954182, 0.01742042],\n",
       "       [0.        , 0.07953019, 1.        , 0.08168401, 0.        ,\n",
       "        0.        , 0.        , 0.        , 0.        , 0.        ,\n",
       "        0.        , 0.        , 0.        , 0.        , 0.        ,\n",
       "        0.        , 0.        , 0.        , 0.        , 0.07898417,\n",
       "        0.        , 0.        , 0.        , 0.        ],\n",
       "       [0.06625029, 0.01673598, 0.08168401, 1.        , 0.02483263,\n",
       "        0.10832188, 0.02229037, 0.10786828, 0.        , 0.        ,\n",
       "        0.        , 0.        , 0.        , 0.        , 0.        ,\n",
       "        0.01675765, 0.        , 0.14503782, 0.03419493, 0.05361914,\n",
       "        0.        , 0.        , 0.04061269, 0.0178922 ],\n",
       "       [0.08251483, 0.        , 0.        , 0.02483263, 1.        ,\n",
       "        0.07436618, 0.02893304, 0.15481341, 0.05037878, 0.13990084,\n",
       "        0.04551234, 0.        , 0.04598805, 0.        , 0.        ,\n",
       "        0.06549604, 0.        , 0.07973341, 0.03122278, 0.04802372,\n",
       "        0.        , 0.        , 0.        , 0.        ],\n",
       "       [0.04308101, 0.0221367 , 0.        , 0.10832188, 0.07436618,\n",
       "        1.        , 0.02948349, 0.06043303, 0.02566862, 0.        ,\n",
       "        0.0463782 , 0.        , 0.        , 0.        , 0.        ,\n",
       "        0.02216536, 0.        , 0.03328094, 0.07704646, 0.07092208,\n",
       "        0.        , 0.        , 0.05371844, 0.02366602],\n",
       "       [0.01998889, 0.        , 0.        , 0.02229037, 0.02893304,\n",
       "        0.02948349, 1.        , 0.02351219, 0.        , 0.        ,\n",
       "        0.05384332, 0.06414819, 0.        , 0.        , 0.0753129 ,\n",
       "        0.03620393, 0.        , 0.02931604, 0.        , 0.04310725,\n",
       "        0.        , 0.        , 0.        , 0.        ],\n",
       "       [0.11202355, 0.        , 0.        , 0.10786828, 0.15481341,\n",
       "        0.06043303, 0.02351219, 1.        , 0.07273026, 0.03941379,\n",
       "        0.09442423, 0.0830381 , 0.05090114, 0.        , 0.        ,\n",
       "        0.02486863, 0.        , 0.02654053, 0.02537292, 0.03902606,\n",
       "        0.        , 0.        , 0.        , 0.        ],\n",
       "       [0.04442911, 0.        , 0.        , 0.        , 0.05037878,\n",
       "        0.02566862, 0.        , 0.07273026, 1.        , 0.02998432,\n",
       "        0.02813675, 0.05206017, 0.03872339, 0.        , 0.05187041,\n",
       "        0.01891898, 0.        , 0.        , 0.01930262, 0.        ,\n",
       "        0.        , 0.        , 0.        , 0.03806669],\n",
       "       [0.03350764, 0.        , 0.        , 0.        , 0.13990084,\n",
       "        0.        , 0.        , 0.03941379, 0.02998432, 1.        ,\n",
       "        0.        , 0.        , 0.        , 0.        , 0.        ,\n",
       "        0.03642751, 0.        , 0.        , 0.        , 0.        ,\n",
       "        0.        , 0.        , 0.        , 0.        ],\n",
       "       [0.        , 0.        , 0.        , 0.        , 0.04551234,\n",
       "        0.0463782 , 0.05384332, 0.09442423, 0.02813675, 0.        ,\n",
       "        1.        , 0.07982633, 0.06996564, 0.        , 0.        ,\n",
       "        0.17388799, 0.        , 0.        , 0.03487609, 0.        ,\n",
       "        0.        , 0.        , 0.        , 0.        ],\n",
       "       [0.        , 0.        , 0.        , 0.        , 0.        ,\n",
       "        0.        , 0.06414819, 0.0830381 , 0.05206017, 0.        ,\n",
       "        0.07982633, 1.        , 0.08335611, 0.        , 0.11165641,\n",
       "        0.05367475, 0.        , 0.        , 0.        , 0.        ,\n",
       "        0.        , 0.        , 0.        , 0.        ],\n",
       "       [0.03177163, 0.        , 0.        , 0.        , 0.04598805,\n",
       "        0.        , 0.        , 0.05090114, 0.03872339, 0.        ,\n",
       "        0.06996564, 0.08335611, 1.        , 0.        , 0.06844374,\n",
       "        0.03454022, 0.        , 0.0465968 , 0.04799845, 0.        ,\n",
       "        0.        , 0.        , 0.        , 0.        ],\n",
       "       [0.        , 0.        , 0.        , 0.        , 0.        ,\n",
       "        0.        , 0.        , 0.        , 0.        , 0.        ,\n",
       "        0.        , 0.        , 0.        , 1.        , 0.        ,\n",
       "        0.        , 0.        , 0.        , 0.        , 0.        ,\n",
       "        0.        , 0.        , 0.        , 0.        ],\n",
       "       [0.        , 0.04401536, 0.        , 0.        , 0.        ,\n",
       "        0.        , 0.0753129 , 0.        , 0.05187041, 0.        ,\n",
       "        0.        , 0.11165641, 0.06844374, 0.        , 1.        ,\n",
       "        0.        , 0.        , 0.        , 0.05298535, 0.04371318,\n",
       "        0.06788316, 0.        , 0.        , 0.        ],\n",
       "       [0.06027648, 0.01631579, 0.        , 0.01675765, 0.06549604,\n",
       "        0.02216536, 0.03620393, 0.02486863, 0.01891898, 0.03642751,\n",
       "        0.17388799, 0.05367475, 0.03454022, 0.        , 0.        ,\n",
       "        1.        , 0.        , 0.09378908, 0.0333364 , 0.01620377,\n",
       "        0.        , 0.        , 0.03959303, 0.01744298],\n",
       "       [0.        , 0.        , 0.        , 0.        , 0.        ,\n",
       "        0.        , 0.        , 0.        , 0.        , 0.        ,\n",
       "        0.        , 0.        , 0.        , 0.        , 0.        ,\n",
       "        0.        , 1.        , 0.        , 0.0600807 , 0.        ,\n",
       "        0.        , 0.        , 0.        , 0.        ],\n",
       "       [0.05508519, 0.        , 0.        , 0.14503782, 0.07973341,\n",
       "        0.03328094, 0.02931604, 0.02654053, 0.        , 0.        ,\n",
       "        0.        , 0.        , 0.0465968 , 0.        , 0.        ,\n",
       "        0.09378908, 0.        , 1.        , 0.05961829, 0.04865942,\n",
       "        0.        , 0.        , 0.        , 0.        ],\n",
       "       [0.15261495, 0.06966541, 0.        , 0.03419493, 0.03122278,\n",
       "        0.07704646, 0.        , 0.02537292, 0.01930262, 0.        ,\n",
       "        0.03487609, 0.        , 0.04799845, 0.        , 0.05298535,\n",
       "        0.0333364 , 0.0600807 , 0.05961829, 1.        , 0.06918713,\n",
       "        0.        , 0.        , 0.0807918 , 0.03559338],\n",
       "       [0.04808296, 0.27343597, 0.07898417, 0.05361914, 0.04802372,\n",
       "        0.07092208, 0.04310725, 0.03902606, 0.        , 0.        ,\n",
       "        0.        , 0.        , 0.        , 0.        , 0.04371318,\n",
       "        0.01620377, 0.        , 0.04865942, 0.06918713, 1.        ,\n",
       "        0.20987587, 0.        , 0.03927035, 0.01730082],\n",
       "       [0.        , 0.15641742, 0.        , 0.        , 0.        ,\n",
       "        0.        , 0.        , 0.        , 0.        , 0.        ,\n",
       "        0.        , 0.        , 0.        , 0.        , 0.06788316,\n",
       "        0.        , 0.        , 0.        , 0.        , 0.20987587,\n",
       "        1.        , 0.15500738, 0.        , 0.        ],\n",
       "       [0.        , 0.        , 0.        , 0.        , 0.        ,\n",
       "        0.        , 0.        , 0.        , 0.        , 0.        ,\n",
       "        0.        , 0.        , 0.        , 0.        , 0.        ,\n",
       "        0.        , 0.        , 0.        , 0.        , 0.        ,\n",
       "        0.15500738, 1.        , 0.24389629, 0.10745017],\n",
       "       [0.03641943, 0.03954182, 0.        , 0.04061269, 0.        ,\n",
       "        0.05371844, 0.        , 0.        , 0.        , 0.        ,\n",
       "        0.        , 0.        , 0.        , 0.        , 0.        ,\n",
       "        0.03959303, 0.        , 0.        , 0.0807918 , 0.03927035,\n",
       "        0.        , 0.24389629, 1.        , 0.0422736 ],\n",
       "       [0.01604483, 0.01742042, 0.        , 0.0178922 , 0.        ,\n",
       "        0.02366602, 0.        , 0.        , 0.03806669, 0.        ,\n",
       "        0.        , 0.        , 0.        , 0.        , 0.        ,\n",
       "        0.01744298, 0.        , 0.        , 0.03559338, 0.01730082,\n",
       "        0.        , 0.10745017, 0.0422736 , 1.        ]])"
      ]
     },
     "execution_count": 191,
     "metadata": {},
     "output_type": "execute_result"
    }
   ],
   "source": [
    "# Se muestra la matriz de similitud\n",
    "sim_matrix\n",
    "\n",
    "# La matriz de similitud es una matriz cuadrada de tamaño 10x10\n",
    "# La diagonal de la matriz es 1, ya que la similitud de una oracion consigo misma es 1\n",
    "# La matriz es simetrica, ya que la similitud de la oracion i con la oracion j es la misma que la similitud de la oracion j con la oracion i\n",
    "# La matriz es dispersa, ya que la mayoria de los valores son 0\n",
    "# La matriz es densa, ya que la mayoria de los valores son 0\n"
   ]
  },
  {
   "cell_type": "code",
   "execution_count": 192,
   "metadata": {},
   "outputs": [
    {
     "data": {
      "text/plain": [
       "array([[0.55032782, 0.00825931, 0.        , 0.03645938, 0.0454102 ,\n",
       "        0.02370868, 0.01100044, 0.06164967, 0.02445058, 0.01844019,\n",
       "        0.        , 0.        , 0.01748481, 0.        , 0.        ,\n",
       "        0.03317182, 0.        , 0.03031491, 0.08398825, 0.02646139,\n",
       "        0.        , 0.        , 0.02004262, 0.00882991],\n",
       "       [0.0085749 , 0.57135575, 0.04544003, 0.0095622 , 0.        ,\n",
       "        0.01264793, 0.        , 0.        , 0.        , 0.        ,\n",
       "        0.        , 0.        , 0.        , 0.        , 0.02514843,\n",
       "        0.00932212, 0.        , 0.        , 0.03980373, 0.15622921,\n",
       "        0.08936999, 0.        , 0.02259245, 0.00995326],\n",
       "       [0.        , 0.06412699, 0.80632262, 0.06586367, 0.        ,\n",
       "        0.        , 0.        , 0.        , 0.        , 0.        ,\n",
       "        0.        , 0.        , 0.        , 0.        , 0.        ,\n",
       "        0.        , 0.        , 0.        , 0.        , 0.06368673,\n",
       "        0.        , 0.        , 0.        , 0.        ],\n",
       "       [0.03816046, 0.00964   , 0.04705035, 0.57600439, 0.0143037 ,\n",
       "        0.06239388, 0.01283935, 0.0621326 , 0.        , 0.        ,\n",
       "        0.        , 0.        , 0.        , 0.        , 0.        ,\n",
       "        0.00965248, 0.        , 0.08354242, 0.01969643, 0.03088486,\n",
       "        0.        , 0.        , 0.02339309, 0.01030598],\n",
       "       [0.04408512, 0.        , 0.        , 0.01326731, 0.53426908,\n",
       "        0.03973155, 0.01545803, 0.08271202, 0.02691583, 0.07474469,\n",
       "        0.02431583, 0.        , 0.02456999, 0.        , 0.        ,\n",
       "        0.03499251, 0.        , 0.0425991 , 0.01668137, 0.02565759,\n",
       "        0.        , 0.        , 0.        , 0.        ],\n",
       "       [0.02548164, 0.01309346, 0.        , 0.06407045, 0.04398626,\n",
       "        0.59148204, 0.01743896, 0.03574505, 0.01518253, 0.        ,\n",
       "        0.02743188, 0.        , 0.        , 0.        , 0.        ,\n",
       "        0.01311041, 0.        , 0.01968508, 0.0455716 , 0.04194914,\n",
       "        0.        , 0.        , 0.03177349, 0.01399803],\n",
       "       [0.01401608, 0.        , 0.        , 0.01562987, 0.02028767,\n",
       "        0.02067364, 0.70119362, 0.0164866 , 0.        , 0.        ,\n",
       "        0.03775459, 0.04498031, 0.        , 0.        , 0.05280893,\n",
       "        0.02538596, 0.        , 0.02055622, 0.        , 0.03022653,\n",
       "        0.        , 0.        , 0.        , 0.        ],\n",
       "       [0.05849897, 0.        , 0.        , 0.05632908, 0.08084395,\n",
       "        0.03155827, 0.01227812, 0.52220245, 0.03797992, 0.02058198,\n",
       "        0.04930857, 0.0433627 , 0.0265807 , 0.        , 0.        ,\n",
       "        0.01298646, 0.        , 0.01385953, 0.0132498 , 0.0203795 ,\n",
       "        0.        , 0.        , 0.        , 0.        ],\n",
       "       [0.03021833, 0.        , 0.        , 0.        , 0.03426499,\n",
       "        0.01745844, 0.        , 0.04946728, 0.68014714, 0.02039375,\n",
       "        0.01913713, 0.03540858, 0.0263376 , 0.        , 0.03527951,\n",
       "        0.01286769, 0.        , 0.        , 0.01312862, 0.        ,\n",
       "        0.        , 0.        , 0.        , 0.02589095],\n",
       "       [0.02619352, 0.        , 0.        , 0.        , 0.10936297,\n",
       "        0.        , 0.        , 0.03081046, 0.02343927, 0.78171775,\n",
       "        0.        , 0.        , 0.        , 0.        , 0.        ,\n",
       "        0.02847603, 0.        , 0.        , 0.        , 0.        ,\n",
       "        0.        , 0.        , 0.        , 0.        ],\n",
       "       [0.        , 0.        , 0.        , 0.        , 0.02797573,\n",
       "        0.02850796, 0.03309665, 0.05804111, 0.01729522, 0.        ,\n",
       "        0.61468448, 0.049068  , 0.04300679, 0.        , 0.        ,\n",
       "        0.10688625, 0.        , 0.        , 0.02143779, 0.        ,\n",
       "        0.        , 0.        , 0.        , 0.        ],\n",
       "       [0.        , 0.        , 0.        , 0.        , 0.        ,\n",
       "        0.        , 0.0419884 , 0.05435284, 0.03407614, 0.        ,\n",
       "        0.05225057, 0.65455304, 0.05456099, 0.        , 0.07308505,\n",
       "        0.03513297, 0.        , 0.        , 0.        , 0.        ,\n",
       "        0.        , 0.        , 0.        , 0.        ],\n",
       "       [0.02092599, 0.        , 0.        , 0.        , 0.03028947,\n",
       "        0.        , 0.        , 0.03352541, 0.02550469, 0.        ,\n",
       "        0.04608202, 0.05490148, 0.6586378 , 0.        , 0.04507963,\n",
       "        0.02274949, 0.        , 0.03069041, 0.0316136 , 0.        ,\n",
       "        0.        , 0.        , 0.        , 0.        ],\n",
       "       [0.        , 0.        , 0.        , 0.        , 0.        ,\n",
       "        0.        , 0.        , 0.        , 0.        , 0.        ,\n",
       "        0.        , 0.        , 0.        , 1.        , 0.        ,\n",
       "        0.        , 0.        , 0.        , 0.        , 0.        ,\n",
       "        0.        , 0.        , 0.        , 0.        ],\n",
       "       [0.        , 0.02903617, 0.        , 0.        , 0.        ,\n",
       "        0.        , 0.04968261, 0.        , 0.034218  , 0.        ,\n",
       "        0.        , 0.07365779, 0.04515114, 0.        , 0.6596826 ,\n",
       "        0.        , 0.        , 0.        , 0.03495351, 0.02883682,\n",
       "        0.04478134, 0.        , 0.        , 0.        ],\n",
       "       [0.03424997, 0.00927087, 0.        , 0.00952194, 0.0372158 ,\n",
       "        0.01259468, 0.0205716 , 0.01413072, 0.01075004, 0.02069864,\n",
       "        0.09880569, 0.03049877, 0.01962625, 0.        , 0.        ,\n",
       "        0.56821456, 0.        , 0.05329232, 0.01894223, 0.00920722,\n",
       "        0.        , 0.        , 0.02249733, 0.00991135],\n",
       "       [0.        , 0.        , 0.        , 0.        , 0.        ,\n",
       "        0.        , 0.        , 0.        , 0.        , 0.        ,\n",
       "        0.        , 0.        , 0.        , 0.        , 0.        ,\n",
       "        0.        , 0.94332441, 0.        , 0.05667559, 0.        ,\n",
       "        0.        , 0.        , 0.        , 0.        ],\n",
       "       [0.03405244, 0.        , 0.        , 0.08965916, 0.04928943,\n",
       "        0.02057354, 0.01812252, 0.01640677, 0.        , 0.        ,\n",
       "        0.        , 0.        , 0.02880511, 0.        , 0.        ,\n",
       "        0.05797833, 0.        , 0.61817782, 0.0368547 , 0.03008017,\n",
       "        0.        , 0.        , 0.        , 0.        ],\n",
       "       [0.08101064, 0.0369796 , 0.        , 0.01815126, 0.01657359,\n",
       "        0.04089759, 0.        , 0.01346838, 0.01024617, 0.        ,\n",
       "        0.01851283, 0.        , 0.02547841, 0.        , 0.02812553,\n",
       "        0.01769554, 0.03189187, 0.03164641, 0.53081722, 0.03672572,\n",
       "        0.        , 0.        , 0.04288568, 0.01889358],\n",
       "       [0.02290306, 0.13024408, 0.03762205, 0.02554008, 0.02287484,\n",
       "        0.03378188, 0.02053301, 0.01858904, 0.        , 0.        ,\n",
       "        0.        , 0.        , 0.        , 0.        , 0.02082163,\n",
       "        0.00771824, 0.        , 0.02317764, 0.03295548, 0.47632388,\n",
       "        0.09996889, 0.        , 0.01870541, 0.00824079],\n",
       "       [0.        , 0.09842626, 0.        , 0.        , 0.        ,\n",
       "        0.        , 0.        , 0.        , 0.        , 0.        ,\n",
       "        0.        , 0.        , 0.        , 0.        , 0.04271574,\n",
       "        0.        , 0.        , 0.        , 0.        , 0.13206519,\n",
       "        0.62925382, 0.09753899, 0.        , 0.        ],\n",
       "       [0.        , 0.        , 0.        , 0.        , 0.        ,\n",
       "        0.        , 0.        , 0.        , 0.        , 0.        ,\n",
       "        0.        , 0.        , 0.        , 0.        , 0.        ,\n",
       "        0.        , 0.        , 0.        , 0.        , 0.        ,\n",
       "        0.10290237, 0.66385465, 0.16191169, 0.07133129],\n",
       "       [0.02253514, 0.02446717, 0.        , 0.02512979, 0.        ,\n",
       "        0.03323919, 0.        , 0.        , 0.        , 0.        ,\n",
       "        0.        , 0.        , 0.        , 0.        , 0.        ,\n",
       "        0.02449886, 0.        , 0.        , 0.04999129, 0.02429919,\n",
       "        0.        , 0.15091495, 0.61876691, 0.0261575 ],\n",
       "       [0.01203526, 0.0130671 , 0.        , 0.01342098, 0.        ,\n",
       "        0.01775194, 0.        , 0.        , 0.02855392, 0.        ,\n",
       "        0.        , 0.        , 0.        , 0.        , 0.        ,\n",
       "        0.01308402, 0.        , 0.        , 0.02669868, 0.01297739,\n",
       "        0.        , 0.08059864, 0.03170953, 0.75010253]])"
      ]
     },
     "execution_count": 192,
     "metadata": {},
     "output_type": "execute_result"
    }
   ],
   "source": [
    "# Se normaliza la matriz de similitud\n",
    "sim_matrix = sim_matrix / sim_matrix.sum(axis=1, keepdims=True)\n",
    "\n",
    "# Se muestra la matriz de similitud\n",
    "(sim_matrix)"
   ]
  },
  {
   "cell_type": "code",
   "execution_count": 193,
   "metadata": {},
   "outputs": [
    {
     "data": {
      "text/plain": [
       "0.9999999999999999"
      ]
     },
     "execution_count": 193,
     "metadata": {},
     "output_type": "execute_result"
    }
   ],
   "source": [
    "sim_matrix[19].sum()"
   ]
  },
  {
   "cell_type": "code",
   "execution_count": 194,
   "metadata": {},
   "outputs": [
    {
     "data": {
      "text/plain": [
       "array([[0.04166667, 0.04166667, 0.04166667, 0.04166667, 0.04166667,\n",
       "        0.04166667, 0.04166667, 0.04166667, 0.04166667, 0.04166667,\n",
       "        0.04166667, 0.04166667, 0.04166667, 0.04166667, 0.04166667,\n",
       "        0.04166667, 0.04166667, 0.04166667, 0.04166667, 0.04166667,\n",
       "        0.04166667, 0.04166667, 0.04166667, 0.04166667],\n",
       "       [0.04166667, 0.04166667, 0.04166667, 0.04166667, 0.04166667,\n",
       "        0.04166667, 0.04166667, 0.04166667, 0.04166667, 0.04166667,\n",
       "        0.04166667, 0.04166667, 0.04166667, 0.04166667, 0.04166667,\n",
       "        0.04166667, 0.04166667, 0.04166667, 0.04166667, 0.04166667,\n",
       "        0.04166667, 0.04166667, 0.04166667, 0.04166667],\n",
       "       [0.04166667, 0.04166667, 0.04166667, 0.04166667, 0.04166667,\n",
       "        0.04166667, 0.04166667, 0.04166667, 0.04166667, 0.04166667,\n",
       "        0.04166667, 0.04166667, 0.04166667, 0.04166667, 0.04166667,\n",
       "        0.04166667, 0.04166667, 0.04166667, 0.04166667, 0.04166667,\n",
       "        0.04166667, 0.04166667, 0.04166667, 0.04166667],\n",
       "       [0.04166667, 0.04166667, 0.04166667, 0.04166667, 0.04166667,\n",
       "        0.04166667, 0.04166667, 0.04166667, 0.04166667, 0.04166667,\n",
       "        0.04166667, 0.04166667, 0.04166667, 0.04166667, 0.04166667,\n",
       "        0.04166667, 0.04166667, 0.04166667, 0.04166667, 0.04166667,\n",
       "        0.04166667, 0.04166667, 0.04166667, 0.04166667],\n",
       "       [0.04166667, 0.04166667, 0.04166667, 0.04166667, 0.04166667,\n",
       "        0.04166667, 0.04166667, 0.04166667, 0.04166667, 0.04166667,\n",
       "        0.04166667, 0.04166667, 0.04166667, 0.04166667, 0.04166667,\n",
       "        0.04166667, 0.04166667, 0.04166667, 0.04166667, 0.04166667,\n",
       "        0.04166667, 0.04166667, 0.04166667, 0.04166667],\n",
       "       [0.04166667, 0.04166667, 0.04166667, 0.04166667, 0.04166667,\n",
       "        0.04166667, 0.04166667, 0.04166667, 0.04166667, 0.04166667,\n",
       "        0.04166667, 0.04166667, 0.04166667, 0.04166667, 0.04166667,\n",
       "        0.04166667, 0.04166667, 0.04166667, 0.04166667, 0.04166667,\n",
       "        0.04166667, 0.04166667, 0.04166667, 0.04166667],\n",
       "       [0.04166667, 0.04166667, 0.04166667, 0.04166667, 0.04166667,\n",
       "        0.04166667, 0.04166667, 0.04166667, 0.04166667, 0.04166667,\n",
       "        0.04166667, 0.04166667, 0.04166667, 0.04166667, 0.04166667,\n",
       "        0.04166667, 0.04166667, 0.04166667, 0.04166667, 0.04166667,\n",
       "        0.04166667, 0.04166667, 0.04166667, 0.04166667],\n",
       "       [0.04166667, 0.04166667, 0.04166667, 0.04166667, 0.04166667,\n",
       "        0.04166667, 0.04166667, 0.04166667, 0.04166667, 0.04166667,\n",
       "        0.04166667, 0.04166667, 0.04166667, 0.04166667, 0.04166667,\n",
       "        0.04166667, 0.04166667, 0.04166667, 0.04166667, 0.04166667,\n",
       "        0.04166667, 0.04166667, 0.04166667, 0.04166667],\n",
       "       [0.04166667, 0.04166667, 0.04166667, 0.04166667, 0.04166667,\n",
       "        0.04166667, 0.04166667, 0.04166667, 0.04166667, 0.04166667,\n",
       "        0.04166667, 0.04166667, 0.04166667, 0.04166667, 0.04166667,\n",
       "        0.04166667, 0.04166667, 0.04166667, 0.04166667, 0.04166667,\n",
       "        0.04166667, 0.04166667, 0.04166667, 0.04166667],\n",
       "       [0.04166667, 0.04166667, 0.04166667, 0.04166667, 0.04166667,\n",
       "        0.04166667, 0.04166667, 0.04166667, 0.04166667, 0.04166667,\n",
       "        0.04166667, 0.04166667, 0.04166667, 0.04166667, 0.04166667,\n",
       "        0.04166667, 0.04166667, 0.04166667, 0.04166667, 0.04166667,\n",
       "        0.04166667, 0.04166667, 0.04166667, 0.04166667],\n",
       "       [0.04166667, 0.04166667, 0.04166667, 0.04166667, 0.04166667,\n",
       "        0.04166667, 0.04166667, 0.04166667, 0.04166667, 0.04166667,\n",
       "        0.04166667, 0.04166667, 0.04166667, 0.04166667, 0.04166667,\n",
       "        0.04166667, 0.04166667, 0.04166667, 0.04166667, 0.04166667,\n",
       "        0.04166667, 0.04166667, 0.04166667, 0.04166667],\n",
       "       [0.04166667, 0.04166667, 0.04166667, 0.04166667, 0.04166667,\n",
       "        0.04166667, 0.04166667, 0.04166667, 0.04166667, 0.04166667,\n",
       "        0.04166667, 0.04166667, 0.04166667, 0.04166667, 0.04166667,\n",
       "        0.04166667, 0.04166667, 0.04166667, 0.04166667, 0.04166667,\n",
       "        0.04166667, 0.04166667, 0.04166667, 0.04166667],\n",
       "       [0.04166667, 0.04166667, 0.04166667, 0.04166667, 0.04166667,\n",
       "        0.04166667, 0.04166667, 0.04166667, 0.04166667, 0.04166667,\n",
       "        0.04166667, 0.04166667, 0.04166667, 0.04166667, 0.04166667,\n",
       "        0.04166667, 0.04166667, 0.04166667, 0.04166667, 0.04166667,\n",
       "        0.04166667, 0.04166667, 0.04166667, 0.04166667],\n",
       "       [0.04166667, 0.04166667, 0.04166667, 0.04166667, 0.04166667,\n",
       "        0.04166667, 0.04166667, 0.04166667, 0.04166667, 0.04166667,\n",
       "        0.04166667, 0.04166667, 0.04166667, 0.04166667, 0.04166667,\n",
       "        0.04166667, 0.04166667, 0.04166667, 0.04166667, 0.04166667,\n",
       "        0.04166667, 0.04166667, 0.04166667, 0.04166667],\n",
       "       [0.04166667, 0.04166667, 0.04166667, 0.04166667, 0.04166667,\n",
       "        0.04166667, 0.04166667, 0.04166667, 0.04166667, 0.04166667,\n",
       "        0.04166667, 0.04166667, 0.04166667, 0.04166667, 0.04166667,\n",
       "        0.04166667, 0.04166667, 0.04166667, 0.04166667, 0.04166667,\n",
       "        0.04166667, 0.04166667, 0.04166667, 0.04166667],\n",
       "       [0.04166667, 0.04166667, 0.04166667, 0.04166667, 0.04166667,\n",
       "        0.04166667, 0.04166667, 0.04166667, 0.04166667, 0.04166667,\n",
       "        0.04166667, 0.04166667, 0.04166667, 0.04166667, 0.04166667,\n",
       "        0.04166667, 0.04166667, 0.04166667, 0.04166667, 0.04166667,\n",
       "        0.04166667, 0.04166667, 0.04166667, 0.04166667],\n",
       "       [0.04166667, 0.04166667, 0.04166667, 0.04166667, 0.04166667,\n",
       "        0.04166667, 0.04166667, 0.04166667, 0.04166667, 0.04166667,\n",
       "        0.04166667, 0.04166667, 0.04166667, 0.04166667, 0.04166667,\n",
       "        0.04166667, 0.04166667, 0.04166667, 0.04166667, 0.04166667,\n",
       "        0.04166667, 0.04166667, 0.04166667, 0.04166667],\n",
       "       [0.04166667, 0.04166667, 0.04166667, 0.04166667, 0.04166667,\n",
       "        0.04166667, 0.04166667, 0.04166667, 0.04166667, 0.04166667,\n",
       "        0.04166667, 0.04166667, 0.04166667, 0.04166667, 0.04166667,\n",
       "        0.04166667, 0.04166667, 0.04166667, 0.04166667, 0.04166667,\n",
       "        0.04166667, 0.04166667, 0.04166667, 0.04166667],\n",
       "       [0.04166667, 0.04166667, 0.04166667, 0.04166667, 0.04166667,\n",
       "        0.04166667, 0.04166667, 0.04166667, 0.04166667, 0.04166667,\n",
       "        0.04166667, 0.04166667, 0.04166667, 0.04166667, 0.04166667,\n",
       "        0.04166667, 0.04166667, 0.04166667, 0.04166667, 0.04166667,\n",
       "        0.04166667, 0.04166667, 0.04166667, 0.04166667],\n",
       "       [0.04166667, 0.04166667, 0.04166667, 0.04166667, 0.04166667,\n",
       "        0.04166667, 0.04166667, 0.04166667, 0.04166667, 0.04166667,\n",
       "        0.04166667, 0.04166667, 0.04166667, 0.04166667, 0.04166667,\n",
       "        0.04166667, 0.04166667, 0.04166667, 0.04166667, 0.04166667,\n",
       "        0.04166667, 0.04166667, 0.04166667, 0.04166667],\n",
       "       [0.04166667, 0.04166667, 0.04166667, 0.04166667, 0.04166667,\n",
       "        0.04166667, 0.04166667, 0.04166667, 0.04166667, 0.04166667,\n",
       "        0.04166667, 0.04166667, 0.04166667, 0.04166667, 0.04166667,\n",
       "        0.04166667, 0.04166667, 0.04166667, 0.04166667, 0.04166667,\n",
       "        0.04166667, 0.04166667, 0.04166667, 0.04166667],\n",
       "       [0.04166667, 0.04166667, 0.04166667, 0.04166667, 0.04166667,\n",
       "        0.04166667, 0.04166667, 0.04166667, 0.04166667, 0.04166667,\n",
       "        0.04166667, 0.04166667, 0.04166667, 0.04166667, 0.04166667,\n",
       "        0.04166667, 0.04166667, 0.04166667, 0.04166667, 0.04166667,\n",
       "        0.04166667, 0.04166667, 0.04166667, 0.04166667],\n",
       "       [0.04166667, 0.04166667, 0.04166667, 0.04166667, 0.04166667,\n",
       "        0.04166667, 0.04166667, 0.04166667, 0.04166667, 0.04166667,\n",
       "        0.04166667, 0.04166667, 0.04166667, 0.04166667, 0.04166667,\n",
       "        0.04166667, 0.04166667, 0.04166667, 0.04166667, 0.04166667,\n",
       "        0.04166667, 0.04166667, 0.04166667, 0.04166667],\n",
       "       [0.04166667, 0.04166667, 0.04166667, 0.04166667, 0.04166667,\n",
       "        0.04166667, 0.04166667, 0.04166667, 0.04166667, 0.04166667,\n",
       "        0.04166667, 0.04166667, 0.04166667, 0.04166667, 0.04166667,\n",
       "        0.04166667, 0.04166667, 0.04166667, 0.04166667, 0.04166667,\n",
       "        0.04166667, 0.04166667, 0.04166667, 0.04166667]])"
      ]
     },
     "execution_count": 194,
     "metadata": {},
     "output_type": "execute_result"
    }
   ],
   "source": [
    "# Suavizado y regularizacion\n",
    "# Matriz de transicion uniforme\n",
    "U = np.ones_like(sim_matrix) / len(sim_matrix)\n",
    "U"
   ]
  },
  {
   "cell_type": "code",
   "execution_count": 195,
   "metadata": {},
   "outputs": [
    {
     "data": {
      "text/plain": [
       "array([[0.11796584, 0.03665556, 0.03541667, 0.04088557, 0.0422282 ,\n",
       "        0.03897297, 0.03706673, 0.04466412, 0.03908425, 0.03818269,\n",
       "        0.03541667, 0.03541667, 0.03803939, 0.03541667, 0.03541667,\n",
       "        0.04039244, 0.03541667, 0.0399639 , 0.0480149 , 0.03938588,\n",
       "        0.03541667, 0.03541667, 0.03842306, 0.03674115],\n",
       "       [0.0367029 , 0.12112003, 0.04223267, 0.036851  , 0.03541667,\n",
       "        0.03731386, 0.03541667, 0.03541667, 0.03541667, 0.03541667,\n",
       "        0.03541667, 0.03541667, 0.03541667, 0.03541667, 0.03918893,\n",
       "        0.03681498, 0.03541667, 0.03541667, 0.04138723, 0.05885105,\n",
       "        0.04882217, 0.03541667, 0.03880553, 0.03690966],\n",
       "       [0.03541667, 0.04503571, 0.15636506, 0.04529622, 0.03541667,\n",
       "        0.03541667, 0.03541667, 0.03541667, 0.03541667, 0.03541667,\n",
       "        0.03541667, 0.03541667, 0.03541667, 0.03541667, 0.03541667,\n",
       "        0.03541667, 0.03541667, 0.03541667, 0.03541667, 0.04496968,\n",
       "        0.03541667, 0.03541667, 0.03541667, 0.03541667],\n",
       "       [0.04114074, 0.03686267, 0.04247422, 0.12181733, 0.03756222,\n",
       "        0.04477575, 0.03734257, 0.04473656, 0.03541667, 0.03541667,\n",
       "        0.03541667, 0.03541667, 0.03541667, 0.03541667, 0.03541667,\n",
       "        0.03686454, 0.03541667, 0.04794803, 0.03837113, 0.0400494 ,\n",
       "        0.03541667, 0.03541667, 0.03892563, 0.03696256],\n",
       "       [0.04202943, 0.03541667, 0.03541667, 0.03740676, 0.11555703,\n",
       "        0.0413764 , 0.03773537, 0.04782347, 0.03945404, 0.04662837,\n",
       "        0.03906404, 0.03541667, 0.03910217, 0.03541667, 0.03541667,\n",
       "        0.04066554, 0.03541667, 0.04180653, 0.03791887, 0.0392653 ,\n",
       "        0.03541667, 0.03541667, 0.03541667, 0.03541667],\n",
       "       [0.03923891, 0.03738069, 0.03541667, 0.04502723, 0.04201461,\n",
       "        0.12413897, 0.03803251, 0.04077842, 0.03769405, 0.03541667,\n",
       "        0.03953145, 0.03541667, 0.03541667, 0.03541667, 0.03541667,\n",
       "        0.03738323, 0.03541667, 0.03836943, 0.04225241, 0.04170904,\n",
       "        0.03541667, 0.03541667, 0.04018269, 0.03751637],\n",
       "       [0.03751908, 0.03541667, 0.03541667, 0.03776115, 0.03845982,\n",
       "        0.03851771, 0.14059571, 0.03788966, 0.03541667, 0.03541667,\n",
       "        0.04107986, 0.04216371, 0.03541667, 0.03541667, 0.04333801,\n",
       "        0.03922456, 0.03541667, 0.0385001 , 0.03541667, 0.03995065,\n",
       "        0.03541667, 0.03541667, 0.03541667, 0.03541667],\n",
       "       [0.04419151, 0.03541667, 0.03541667, 0.04386603, 0.04754326,\n",
       "        0.04015041, 0.03725838, 0.11374703, 0.04111365, 0.03850396,\n",
       "        0.04281295, 0.04192107, 0.03940377, 0.03541667, 0.03541667,\n",
       "        0.03736464, 0.03541667, 0.0374956 , 0.03740414, 0.03847359,\n",
       "        0.03541667, 0.03541667, 0.03541667, 0.03541667],\n",
       "       [0.03994942, 0.03541667, 0.03541667, 0.03541667, 0.04055641,\n",
       "        0.03803543, 0.03541667, 0.04283676, 0.13743874, 0.03847573,\n",
       "        0.03828724, 0.04072795, 0.03936731, 0.03541667, 0.04070859,\n",
       "        0.03734682, 0.03541667, 0.03541667, 0.03738596, 0.03541667,\n",
       "        0.03541667, 0.03541667, 0.03541667, 0.03930031],\n",
       "       [0.03934569, 0.03541667, 0.03541667, 0.03541667, 0.05182111,\n",
       "        0.03541667, 0.03541667, 0.04003824, 0.03893256, 0.15267433,\n",
       "        0.03541667, 0.03541667, 0.03541667, 0.03541667, 0.03541667,\n",
       "        0.03968807, 0.03541667, 0.03541667, 0.03541667, 0.03541667,\n",
       "        0.03541667, 0.03541667, 0.03541667, 0.03541667],\n",
       "       [0.03541667, 0.03541667, 0.03541667, 0.03541667, 0.03961303,\n",
       "        0.03969286, 0.04038116, 0.04412283, 0.03801095, 0.03541667,\n",
       "        0.12761934, 0.04277687, 0.04186769, 0.03541667, 0.03541667,\n",
       "        0.0514496 , 0.03541667, 0.03541667, 0.03863234, 0.03541667,\n",
       "        0.03541667, 0.03541667, 0.03541667, 0.03541667],\n",
       "       [0.03541667, 0.03541667, 0.03541667, 0.03541667, 0.03541667,\n",
       "        0.03541667, 0.04171493, 0.04356959, 0.04052809, 0.03541667,\n",
       "        0.04325425, 0.13359962, 0.04360082, 0.03541667, 0.04637942,\n",
       "        0.04068661, 0.03541667, 0.03541667, 0.03541667, 0.03541667,\n",
       "        0.03541667, 0.03541667, 0.03541667, 0.03541667],\n",
       "       [0.03855557, 0.03541667, 0.03541667, 0.03541667, 0.03996009,\n",
       "        0.03541667, 0.03541667, 0.04044548, 0.03924237, 0.03541667,\n",
       "        0.04232897, 0.04365189, 0.13421234, 0.03541667, 0.04217861,\n",
       "        0.03882909, 0.03541667, 0.04002023, 0.04015871, 0.03541667,\n",
       "        0.03541667, 0.03541667, 0.03541667, 0.03541667],\n",
       "       [0.03541667, 0.03541667, 0.03541667, 0.03541667, 0.03541667,\n",
       "        0.03541667, 0.03541667, 0.03541667, 0.03541667, 0.03541667,\n",
       "        0.03541667, 0.03541667, 0.03541667, 0.18541667, 0.03541667,\n",
       "        0.03541667, 0.03541667, 0.03541667, 0.03541667, 0.03541667,\n",
       "        0.03541667, 0.03541667, 0.03541667, 0.03541667],\n",
       "       [0.03541667, 0.03977209, 0.03541667, 0.03541667, 0.03541667,\n",
       "        0.03541667, 0.04286906, 0.03541667, 0.04054937, 0.03541667,\n",
       "        0.03541667, 0.04646534, 0.04218934, 0.03541667, 0.13436906,\n",
       "        0.03541667, 0.03541667, 0.03541667, 0.04065969, 0.03974219,\n",
       "        0.04213387, 0.03541667, 0.03541667, 0.03541667],\n",
       "       [0.04055416, 0.0368073 , 0.03541667, 0.03684496, 0.04099904,\n",
       "        0.03730587, 0.03850241, 0.03753627, 0.03702917, 0.03852146,\n",
       "        0.05023752, 0.03999148, 0.0383606 , 0.03541667, 0.03541667,\n",
       "        0.12064885, 0.03541667, 0.04341051, 0.038258  , 0.03679775,\n",
       "        0.03541667, 0.03541667, 0.03879127, 0.03690337],\n",
       "       [0.03541667, 0.03541667, 0.03541667, 0.03541667, 0.03541667,\n",
       "        0.03541667, 0.03541667, 0.03541667, 0.03541667, 0.03541667,\n",
       "        0.03541667, 0.03541667, 0.03541667, 0.03541667, 0.03541667,\n",
       "        0.03541667, 0.17691533, 0.03541667, 0.043918  , 0.03541667,\n",
       "        0.03541667, 0.03541667, 0.03541667, 0.03541667],\n",
       "       [0.04052453, 0.03541667, 0.03541667, 0.04886554, 0.04281008,\n",
       "        0.0385027 , 0.03813505, 0.03787768, 0.03541667, 0.03541667,\n",
       "        0.03541667, 0.03541667, 0.03973743, 0.03541667, 0.03541667,\n",
       "        0.04411342, 0.03541667, 0.12814334, 0.04094487, 0.03992869,\n",
       "        0.03541667, 0.03541667, 0.03541667, 0.03541667],\n",
       "       [0.04756826, 0.04096361, 0.03541667, 0.03813936, 0.0379027 ,\n",
       "        0.0415513 , 0.03541667, 0.03743692, 0.03695359, 0.03541667,\n",
       "        0.03819359, 0.03541667, 0.03923843, 0.03541667, 0.0396355 ,\n",
       "        0.038071  , 0.04020045, 0.04016363, 0.11503925, 0.04092552,\n",
       "        0.03541667, 0.03541667, 0.04184952, 0.0382507 ],\n",
       "       [0.03885213, 0.05495328, 0.04105997, 0.03924768, 0.03884789,\n",
       "        0.04048395, 0.03849662, 0.03820502, 0.03541667, 0.03541667,\n",
       "        0.03541667, 0.03541667, 0.03541667, 0.03541667, 0.03853991,\n",
       "        0.0365744 , 0.03541667, 0.03889331, 0.04035999, 0.10686525,\n",
       "        0.050412  , 0.03541667, 0.03822248, 0.03665279],\n",
       "       [0.03541667, 0.05018061, 0.03541667, 0.03541667, 0.03541667,\n",
       "        0.03541667, 0.03541667, 0.03541667, 0.03541667, 0.03541667,\n",
       "        0.03541667, 0.03541667, 0.03541667, 0.03541667, 0.04182403,\n",
       "        0.03541667, 0.03541667, 0.03541667, 0.03541667, 0.05522645,\n",
       "        0.12980474, 0.05004751, 0.03541667, 0.03541667],\n",
       "       [0.03541667, 0.03541667, 0.03541667, 0.03541667, 0.03541667,\n",
       "        0.03541667, 0.03541667, 0.03541667, 0.03541667, 0.03541667,\n",
       "        0.03541667, 0.03541667, 0.03541667, 0.03541667, 0.03541667,\n",
       "        0.03541667, 0.03541667, 0.03541667, 0.03541667, 0.03541667,\n",
       "        0.05085202, 0.13499486, 0.05970342, 0.04611636],\n",
       "       [0.03879694, 0.03908674, 0.03541667, 0.03918613, 0.03541667,\n",
       "        0.04040255, 0.03541667, 0.03541667, 0.03541667, 0.03541667,\n",
       "        0.03541667, 0.03541667, 0.03541667, 0.03541667, 0.03541667,\n",
       "        0.03909149, 0.03541667, 0.03541667, 0.04291536, 0.03906155,\n",
       "        0.03541667, 0.05805391, 0.1282317 , 0.03934029],\n",
       "       [0.03722196, 0.03737673, 0.03541667, 0.03742981, 0.03541667,\n",
       "        0.03807946, 0.03541667, 0.03541667, 0.03969975, 0.03541667,\n",
       "        0.03541667, 0.03541667, 0.03541667, 0.03541667, 0.03541667,\n",
       "        0.03737927, 0.03541667, 0.03541667, 0.03942147, 0.03736327,\n",
       "        0.03541667, 0.04750646, 0.0401731 , 0.14793205]])"
      ]
     },
     "execution_count": 195,
     "metadata": {},
     "output_type": "execute_result"
    }
   ],
   "source": [
    "# Matriz de similitud suavizada\n",
    "factor = 0.15\n",
    "sim_matrix = (1 - factor) * U + factor * sim_matrix\n",
    "sim_matrix"
   ]
  },
  {
   "cell_type": "code",
   "execution_count": 196,
   "metadata": {},
   "outputs": [
    {
     "data": {
      "text/plain": [
       "(24, 24)"
      ]
     },
     "execution_count": 196,
     "metadata": {},
     "output_type": "execute_result"
    }
   ],
   "source": [
    "sim_matrix.shape"
   ]
  },
  {
   "cell_type": "code",
   "execution_count": 197,
   "metadata": {},
   "outputs": [],
   "source": [
    "# Calcular los eigenvectores y eigenvalores\n",
    "eigenvalues, eigenvectors = np.linalg.eig(sim_matrix.T)"
   ]
  },
  {
   "cell_type": "code",
   "execution_count": 198,
   "metadata": {},
   "outputs": [
    {
     "data": {
      "text/plain": [
       "array([1.        , 0.15      , 0.14189004, 0.13363533, 0.05318189,\n",
       "       0.12657105, 0.12214563, 0.06115474, 0.06308086, 0.06416916,\n",
       "       0.11541479, 0.11161459, 0.07100558, 0.07479815, 0.075609  ,\n",
       "       0.10574227, 0.10441578, 0.09927901, 0.09727543, 0.08158999,\n",
       "       0.0842945 , 0.09125688, 0.08949642, 0.08759136])"
      ]
     },
     "execution_count": 198,
     "metadata": {},
     "output_type": "execute_result"
    }
   ],
   "source": [
    "# Se imprimen los eigenvectores y eigenvalores\n",
    "eigenvalues\n"
   ]
  },
  {
   "cell_type": "code",
   "execution_count": 199,
   "metadata": {},
   "outputs": [
    {
     "data": {
      "text/plain": [
       "array([-0.20496147, -0.20445794, -0.20194231, -0.20475192, -0.20634896,\n",
       "       -0.20374471, -0.20257011, -0.20645971, -0.20305873, -0.20195744,\n",
       "       -0.20375016, -0.20364246, -0.20312168, -0.20411779, -0.20352038,\n",
       "       -0.20524394, -0.20324754, -0.20308608, -0.20656699, -0.20891316,\n",
       "       -0.2030528 , -0.20383372, -0.20394968, -0.20252718])"
      ]
     },
     "execution_count": 199,
     "metadata": {},
     "output_type": "execute_result"
    }
   ],
   "source": [
    "\n",
    "eigenvectors[:,0]\n"
   ]
  },
  {
   "cell_type": "code",
   "execution_count": 200,
   "metadata": {},
   "outputs": [
    {
     "data": {
      "text/plain": [
       "array([ 2,  9, 23,  6, 20,  8, 17, 12, 16, 14, 11,  5, 10, 21, 22, 13,  1,\n",
       "        3,  0, 15,  4,  7, 18, 19], dtype=int64)"
      ]
     },
     "execution_count": 200,
     "metadata": {},
     "output_type": "execute_result"
    }
   ],
   "source": [
    "# Se ordenan los eigenvectores y eigenvalores\n",
    "scores = eigenvectors[:,0]\n",
    "sort_idx = np.argsort(-scores)\n",
    "sort_idx\n"
   ]
  },
  {
   "cell_type": "code",
   "execution_count": 201,
   "metadata": {},
   "outputs": [
    {
     "name": "stdout",
     "output_type": "stream",
     "text": [
      "Crear un resumen de la noticia:\n",
      "-0.20:  La lectura de abril de 48 ya fue la más fuerte desde octubre\n",
      "de 2008\n",
      "-0.20:  Calificó el resultado como en gran medida dentro del rango\n",
      "esperado por el banco\n",
      "-0.20:  El precio de los enseres y servicios del hogar subió un 54Los\n",
      "precios en hoteles y restaurantes subieron un 73 en medio de las\n",
      "restricciones más relajadas de Covid en la actividad pública\n",
      "-0.20: El gobernador del BOK Rhee Changyong ya advirtió la semana\n",
      "pasada que esperaba que la inflación superara el 5 y se mantuviera\n",
      "allí durante algún tiempo\n",
      "-0.20: Los costos de transporte lideraron las ganancias aumentando un\n",
      "145 respecto al año anterior\n"
     ]
    }
   ],
   "source": [
    "# Se imprime el resumen\n",
    "print('Crear un resumen de la noticia:')\n",
    "for i in sort_idx[:5]:\n",
    "    print(textwrap.fill('%.2f: %s' % (scores[i], lineas[i])))"
   ]
  }
 ],
 "metadata": {
  "kernelspec": {
   "display_name": "Python 3",
   "language": "python",
   "name": "python3"
  },
  "language_info": {
   "codemirror_mode": {
    "name": "ipython",
    "version": 3
   },
   "file_extension": ".py",
   "mimetype": "text/x-python",
   "name": "python",
   "nbconvert_exporter": "python",
   "pygments_lexer": "ipython3",
   "version": "3.9.0"
  }
 },
 "nbformat": 4,
 "nbformat_minor": 2
}
